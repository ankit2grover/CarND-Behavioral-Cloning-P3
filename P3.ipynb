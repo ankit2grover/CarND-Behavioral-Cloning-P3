{
 "cells": [
  {
   "cell_type": "code",
   "execution_count": 1,
   "metadata": {
    "collapsed": false
   },
   "outputs": [
    {
     "name": "stderr",
     "output_type": "stream",
     "text": [
      "Using TensorFlow backend.\n"
     ]
    }
   ],
   "source": [
    "import os\n",
    "import argparse\n",
    "\n",
    "import numpy as np\n",
    "import pandas as pd\n",
    "import cv2\n",
    "import random\n",
    "import math\n",
    "\n",
    "from keras.models import Sequential\n",
    "from keras.layers.core import Dense, Dropout, Flatten, Lambda\n",
    "from keras.layers.convolutional import Conv2D, Cropping2D\n",
    "from keras.backend import tf as ktf\n",
    "\n",
    "from sklearn.model_selection import train_test_split\n",
    "from sklearn.utils import shuffle\n",
    "\n",
    "import matplotlib\n",
    "import matplotlib.pyplot as plt\n",
    "import matplotlib.image as mpimg\n",
    "from mpl_toolkits.axes_grid1 import ImageGrid\n",
    "\n",
    "%matplotlib inline"
   ]
  },
  {
   "cell_type": "code",
   "execution_count": 2,
   "metadata": {
    "collapsed": false
   },
   "outputs": [
    {
     "name": "stdout",
     "output_type": "stream",
     "text": [
      "['.DS_Store', 'recordings', 'recovery', 'udacity']\n",
      "NormanDataset/recordings/driving_log.csv\n"
     ]
    }
   ],
   "source": [
    "def read_data_csv(filename):\n",
    "    columns = ('center', 'left', 'right', 'steering', 'throttle', 'brake', 'speed')\n",
    "    df = pd.read_csv(filename, skipinitialspace = True)\n",
    "    df.columns = columns\n",
    "    return df\n",
    "\n",
    "'''\n",
    "Change the image path as path of images in csv file different from actual images path\n",
    "'''\n",
    "def change_image_path(df, folder):\n",
    "    new_filepath = lambda s: os.path.join(folder, s.split('/')[-1])\n",
    "    df['center'] = df['center'].map(new_filepath)\n",
    "    df['left'] = df['left'].map(new_filepath)\n",
    "    df['right'] = df['right'].map(new_filepath)\n",
    "    return df\n",
    "\n",
    "# load image from file in HSV color space\n",
    "def load_image(path):\n",
    "    img = cv2.imread(path)\n",
    "    return cv2.cvtColor(img, cv2.COLOR_BGR2HSV)\n",
    "\n",
    "def get_input_shape(df):\n",
    "    if (df is not None and df['center'] is not None):\n",
    "        sample_input_image = df['center'].iloc[1]\n",
    "        return load_image(sample_input_image).shape\n",
    "    \n",
    "\n",
    "def read_all_csvs_folders(parent_folder):\n",
    "    data = []\n",
    "    folders = os.listdir(parent_folder)\n",
    "    print(folders)\n",
    "    for folder in folders:\n",
    "        if ('.' in folder):\n",
    "            continue\n",
    "        folder = os.path.join(parent_folder, folder)\n",
    "        img_folder_path = os.path.join(folder, \"IMG\")\n",
    "        csv_filepath = os.path.join(folder , \"driving_log.csv\")\n",
    "        print (csv_filepath)\n",
    "        df = read_data_csv(csv_filepath)\n",
    "        df = change_image_path(df, img_folder_path)\n",
    "        data.append(df)\n",
    "        concatenate_df = pd.DataFrame(np.concatenate(data, axis=0), columns = df.columns)\n",
    "        return concatenate_df\n",
    "\n",
    "\n",
    "data = read_all_csvs_folders('NormanDataset')\n",
    "#input_shape = get_input_shape(data)\n",
    "FIGSIZE = (20, 5)"
   ]
  },
  {
   "cell_type": "code",
   "execution_count": 3,
   "metadata": {
    "collapsed": false
   },
   "outputs": [
    {
     "name": "stdout",
     "output_type": "stream",
     "text": [
      "3737 centre images\n"
     ]
    }
   ],
   "source": [
    "print (\"{} centre images\".format(len(data)))\n",
    "#print (\"Shape of each image is {}\".format(input_shape))"
   ]
  },
  {
   "cell_type": "code",
   "execution_count": 9,
   "metadata": {
    "collapsed": false
   },
   "outputs": [
    {
     "data": {
      "text/plain": [
       "<matplotlib.axes._subplots.AxesSubplot at 0x1246a94e0>"
      ]
     },
     "execution_count": 9,
     "metadata": {},
     "output_type": "execute_result"
    },
    {
     "data": {
      "image/png": "[encoded data removed]",
      "text/plain": [
       "<matplotlib.figure.Figure at 0x1246e3978>"
      ]
     },
     "metadata": {},
     "output_type": "display_data"
    }
   ],
   "source": [
    "data['steering'].plot.hist(bins = 100, figsize = FIGSIZE)"
   ]
  },
  {
   "cell_type": "code",
   "execution_count": 5,
   "metadata": {
    "collapsed": false
   },
   "outputs": [],
   "source": [
    "## Visualize the final model\n",
    "model = Sequential()\n",
    "model.add(Cropping2D(cropping=((60,24), (0,0)), input_shape=(160,320,3)))\n",
    "model.add(Lambda(lambda x:x/255.0 - 0.5))\n",
    "model.add(Conv2D(24, (5,5), strides=(2,2), padding='valid', activation='elu'))\n",
    "#model.add(Dropout(0.25))\n",
    "model.add(Conv2D(36, (5,5), strides=(2,2), padding='valid', activation='elu'))\n",
    "#model.add(Dropout(0.5))\n",
    "model.add(Conv2D(48, (5,5), strides=(2,2), padding='valid', activation='elu'))\n",
    "#model.add(Dropout(0.5))\n",
    "model.add(Conv2D(64, (3,3), strides=(1,1), padding='valid', activation='elu'))\n",
    "model.add(Conv2D(64, (3,3), strides=(1,1), padding='valid', activation='elu'))\n",
    "model.add(Flatten())\n",
    "model.add(Dropout(0.5))\n",
    "model.add(Dense(100, activation='elu'))\n",
    "model.add(Dropout(0.2))\n",
    "model.add(Dense(50, activation='elu'))\n",
    "model.add(Dropout(0.2))\n",
    "model.add(Dense(10 , activation='elu'))\n",
    "model.add(Dense(1))"
   ]
  },
  {
   "cell_type": "code",
   "execution_count": 6,
   "metadata": {
    "collapsed": false
   },
   "outputs": [],
   "source": [
    "from IPython.display import Image, display, SVG\n",
    "from keras.utils.vis_utils import model_to_dot\n",
    "\n",
    "# Show the model in ipython notebook\n",
    "#figure = SVG(model_to_dot(model, show_shapes=True).create(prog='dot', format='svg'))\n",
    "#display(figure)"
   ]
  },
  {
   "cell_type": "code",
   "execution_count": 7,
   "metadata": {
    "collapsed": false
   },
   "outputs": [],
   "source": [
    "# Save the model as png file\n",
    "from keras.utils.vis_utils import plot_model\n",
    "plot_model(model, to_file='model.png', show_shapes=True)"
   ]
  },
  {
   "cell_type": "code",
   "execution_count": null,
   "metadata": {
    "collapsed": true
   },
   "outputs": [],
   "source": []
  }
 ],
 "metadata": {
  "kernelspec": {
   "display_name": "Python 3",
   "language": "python",
   "name": "python3"
  },
  "language_info": {
   "codemirror_mode": {
    "name": "ipython",
    "version": 3
   },
   "file_extension": ".py",
   "mimetype": "text/x-python",
   "name": "python",
   "nbconvert_exporter": "python",
   "pygments_lexer": "ipython3",
   "version": "3.5.2"
  },
  "widgets": {
   "state": {},
   "version": "1.1.2"
  }
 },
 "nbformat": 4,
 "nbformat_minor": 2
}
